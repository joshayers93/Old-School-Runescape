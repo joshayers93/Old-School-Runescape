{
 "cells": [
  {
   "cell_type": "markdown",
   "id": "2981dd76",
   "metadata": {
    "tags": []
   },
   "source": [
    "# Hiscores Ironman Account Type Checker and Organized API Pulls\n",
    "## Loops through entire clan, saves their stats @ timestamps"
   ]
  },
  {
   "cell_type": "code",
   "execution_count": 25,
   "id": "1554cb76",
   "metadata": {},
   "outputs": [],
   "source": [
    "#Package Imports\n",
    "import requests\n",
    "import json\n",
    "import pandas as pd\n",
    "import numpy as np\n",
    "from datetime import date"
   ]
  },
  {
   "cell_type": "code",
   "execution_count": 26,
   "id": "e1f732c5",
   "metadata": {
    "tags": []
   },
   "outputs": [],
   "source": [
    "#Clan List pulled via Clanmate export runelite plugin\n",
    "#For this demo I've just selected three random players I saw while mining\n",
    "ClanList = pd.read_csv('members.csv')"
   ]
  },
  {
   "cell_type": "code",
   "execution_count": 27,
   "id": "ae0eadad",
   "metadata": {
    "tags": []
   },
   "outputs": [],
   "source": [
    "#Checking out the dataframe\n",
    "#ClanList \n",
    "ClanName = ClanList['RSN'].to_list()"
   ]
  },
  {
   "cell_type": "code",
   "execution_count": 28,
   "id": "bdaa3742-46ee-4ba9-b9d7-31b28f085f99",
   "metadata": {
    "tags": []
   },
   "outputs": [
    {
     "data": {
      "text/plain": [
       "['N54 Gang', 'SoulfulDink', 'KingJacula']"
      ]
     },
     "execution_count": 28,
     "metadata": {},
     "output_type": "execute_result"
    }
   ],
   "source": [
    "#checking out list of random names I picked\n",
    "ClanName"
   ]
  },
  {
   "cell_type": "code",
   "execution_count": 29,
   "id": "848dbda6",
   "metadata": {
    "tags": []
   },
   "outputs": [
    {
     "data": {
      "text/plain": [
       "3"
      ]
     },
     "execution_count": 29,
     "metadata": {},
     "output_type": "execute_result"
    }
   ],
   "source": [
    "#Checking current size of clan as of most recent claname export\n",
    "ClanSize = len(ClanName)\n",
    "ClanSize\n",
    "\n",
    "#Note - Clansmate RSN's are strings with spaces allowed"
   ]
  },
  {
   "cell_type": "code",
   "execution_count": 30,
   "id": "8965e2cd-8108-4865-96ba-09fa1bf30f00",
   "metadata": {
    "tags": []
   },
   "outputs": [],
   "source": [
    "#Standard Imports\n",
    "#General commments, this is a fairly inneficient function, chose to hack it together instead of going foor a list \n",
    "#remmoval process which I'll add for V2\n",
    "def AccountStatsPlusType(RSN):\n",
    "\n",
    "    #import requests\n",
    "    #import json\n",
    "    #import pandas as pd            #commented out as it is not best practice to have imports inside a function\n",
    "    #import numpy as np\n",
    "    #from datetime import date\n",
    "\n",
    "    SkillsOrder= ['Overall', 'Attack', 'Defence', 'Strength', 'Hitpoints', 'Ranged', 'Prayer', 'Magic', 'Cooking', 'Woodcutting', 'Fletching', 'Fishing', 'Firemaking', 'Crafting', 'Smithing', 'Mining', 'Herblore', 'Agility', 'Thieving', 'Slayer', 'Farming', 'Runecraft', 'Hunter', 'Construction', 'empty',   'Bounty Hunter - Hunter',    'Bounty Hunter - Rogue',    'Clue Scrolls (all)',    'Clue Scrolls (beginner)',    'Clue Scrolls (easy)',    'Clue Scrolls (medium)',    'Clue Scrolls (hard)',    'Clue Scrolls (elite)',    'Clue Scrolls (master)',    'LMS - Rank',    'PvP Arena - Rank',    'Soul Wars Zeal',    'Rifts closed',    'Abyssal Sire',    'Alchemical Hydra',    'Artio',    'Barrows Chests',    'Bryophyta',    'Callisto',    \"Cal'varion\",    'Cerberus',    'Chambers of Xeric',    'Chambers of Xeric: Challenge Mode',    'Chaos Elemental',    'Chaos Fanatic',    'Commander Zilyana',    'Corporeal Beast',    'Crazy Archaeologist',    'Dagannoth Prime',    'Dagannoth Rex',    'Dagannoth Supreme',    'Deranged Archaeologist',    'General Graardor',    'Giant Mole',    'Grotesque Guardians',    'Hespori',    'Kalphite Queen',    'King Black Dragon',    'Kraken',    \"Kree'Arra\",    \"K'ril Tsutsaroth\",    'Mimic',    'Nex',    'Nightmare',    \"Phosani's Nightmare\",    'Obor',    'Phantom Muspah',    'Sarachnis',    'Scorpia',    'Skotizo',    'Spindel',    'Tempoross',    'The Gauntlet',    'The Corrupted Gauntlet',    'Theatre of Blood',    'Theatre of Blood: Hard Mode',    'Thermonuclear Smoke Devil',    'Tombs of Amascut',    'Tombs of Amascut: Expert Mode',    'TzKal-Zuk',    'TzTok-Jad',    'Venenatis',    \"Vet'ion\",    'Vorkath',    'Wintertodt',    'Zalcano',    'Zulrah']\n",
    "\n",
    "    OverallHS = f\"https://secure.runescape.com/m=hiscore_oldschool/index_lite.ws?player={RSN}\"\n",
    "    APIhit = f\"https://secure.runescape.com/m=hiscore_oldschool_ironman/index_lite.ws?player={RSN}\"\n",
    "    HC_APIhit = f\"https://secure.runescape.com/m=hiscore_oldschool_hardcore_ironman/index_lite.ws?player={RSN}\"\n",
    "    UIM_APIhit = f\"https://secure.runescape.com/m=hiscore_oldschool_ultimate/index_lite.ws?player={RSN}\"\n",
    "\n",
    "    #connnect to the IM API\n",
    "    IMresponse = requests.get(APIhit)\n",
    "    IMdata = IMresponse.text\n",
    "\n",
    "    #connect to the HC API\n",
    "    HCresponse = requests.get(HC_APIhit)\n",
    "    HCdata = HCresponse.text   \n",
    "\n",
    "    #connect to the HC API\n",
    "    UIMresponse = requests.get(UIM_APIhit)\n",
    "    UIMdata = UIMresponse.text   \n",
    "\n",
    "    #connect to normal API\n",
    "    GIMresponse = requests.get(OverallHS)\n",
    "    GIMdata = GIMresponse.text      \n",
    "\n",
    "    # replace all instances of '\\n' with a comma\n",
    "    IM_Sub = IMdata.splitlines()\n",
    "    HC_Sub = HCdata.splitlines()\n",
    "    UIM_Sub = UIMdata.splitlines()\n",
    "    GIM_Sub = GIMdata.splitlines()\n",
    "    df = pd.DataFrame(SkillsOrder)\n",
    "\n",
    "    #ETL\n",
    "\n",
    "    #Create empty dataframe\n",
    "    GIM = pd.DataFrame()\n",
    "    IM = pd.DataFrame()\n",
    "    UIM = pd.DataFrame()\n",
    "    HCIM = pd.DataFrame()\n",
    "    \n",
    "    \n",
    "    \n",
    "    GIM['API'] = GIM_Sub[0:24]\n",
    "    GIM[['Rank','Level','Exp']] = GIM['API'].str.split(',',expand=True)\n",
    "    #Rename first column appropriately\n",
    "    GIM.columns = ['Skill', *GIM.columns[1:]]\n",
    "    GIM['Skill'] = SkillsOrder[0:24]\n",
    "    #Add timestamp for daily delta calculations\n",
    "    GIM['Date'] = datetime.now()\n",
    "    GIM['RSN'] = RSN\n",
    "    GIM['Player Type'] = 'Main/GIM/UGIM'\n",
    "    GIM['IM_Order'] = 4  \n",
    "    \n",
    "   \n",
    "    try:\n",
    "        IM['API'] = IM_Sub[0:24]\n",
    "        IM[['Rank','Level','Exp']] = IM['API'].str.split(',',expand=True)\n",
    "        #Rename first column appropriately\n",
    "        IM.columns = ['Skill', *IM.columns[1:]]\n",
    "        IM['Skill'] = SkillsOrder[0:24]\n",
    "        #Add timestamp for daily delta calculations\n",
    "        IM['Date'] = datetime.now()\n",
    "        IM['RSN'] = RSN\n",
    "        IM['Player Type'] = 'IM'\n",
    "        IM['IM_Order'] = 3   \n",
    "    except:\n",
    "        pass\n",
    "    try:\n",
    "        HCIM['API'] = HC_Sub[0:24]\n",
    "        HCIM[['Rank','Level','Exp']] = HCIM['API'].str.split(',',expand=True)\n",
    "        #Rename first column appropriately\n",
    "        HCIM.columns = ['Skill', *HCIM.columns[1:]]\n",
    "        HCIM['Skill'] = SkillsOrder[0:24]\n",
    "        #Add timestamp for daily delta calculations\n",
    "        HCIM['Date'] = datetime.now()\n",
    "        HCIM['RSN'] = RSN\n",
    "        HCIM['Player Type'] = 'HCIM'\n",
    "        HCIM['IM_Order'] = 2  \n",
    "    except:\n",
    "        pass\n",
    "    try:\n",
    "        UIM['API'] = UIM_Sub[0:24]\n",
    "        UIM[['Rank','Level','Exp']] = UIM['API'].str.split(',',expand=True)\n",
    "        #Rename first column appropriately\n",
    "        UIM.columns = ['Skill', *UIM.columns[1:]]\n",
    "        UIM['Skill'] = SkillsOrder[0:24]\n",
    "        #Add timestamp for daily delta calculations\n",
    "        UIM['Date'] = datetime.now()\n",
    "        UIM['RSN'] = RSN\n",
    "        UIM['Player Type'] = 'UIM'\n",
    "        UIM['IM_Order'] = 1 \n",
    "    except:\n",
    "        pass\n",
    "    \n",
    "    lst = [GIM,IM,UIM,HCIM]\n",
    "    df = pd.concat(lst)\n",
    "    df['Exp'] = pd.to_numeric(df['Exp'])\n",
    "    df['IM_Order'] = pd.to_numeric(df['IM_Order'])\n",
    "    df = df.sort_values(by='IM_Order', ascending=False)\n",
    "    df = df.dropna(thresh=5)\n",
    "    \n",
    "    typing = df[df['Skill'] == 'Overall']\n",
    "    typing = typing.query('Exp == Exp.max()')\n",
    "    \n",
    "    df = df[df['Player Type'] == typing.iloc[-1,6]]\n",
    "    \n",
    "        \n",
    "        \n",
    "    return df"
   ]
  },
  {
   "cell_type": "code",
   "execution_count": null,
   "id": "421c6ec1",
   "metadata": {},
   "outputs": [],
   "source": [
    "## Looping portion of clan\n",
    "# For reference, a clan size of approximately 350 will take ~7 minutes to complete using 16GB ram"
   ]
  },
  {
   "cell_type": "code",
   "execution_count": 31,
   "id": "ad553fcf-41a7-4a28-bf80-09d7e986681d",
   "metadata": {
    "tags": []
   },
   "outputs": [
    {
     "name": "stdout",
     "output_type": "stream",
     "text": [
      "N54 Gang\n",
      "SoulfulDink\n",
      "KingJacula\n"
     ]
    }
   ],
   "source": [
    "dfs = []\n",
    "for RSN in ClanName:\n",
    "    print(RSN)\n",
    "    try:\n",
    "        ClanName = AccountStatsPlusType(RSN)\n",
    "        dfs.append(ClanName)\n",
    "        ClanHiScoresDs = pd.concat(dfs, ignore_index=True)\n",
    "    except:\n",
    "        continue"
   ]
  },
  {
   "cell_type": "code",
   "execution_count": 32,
   "id": "826e5d4c",
   "metadata": {},
   "outputs": [],
   "source": [
    "#comment this part out after first run through\n",
    "#ClanHiScoresDs.to_csv('ClanHiscoresDataset.csv')"
   ]
  },
  {
   "cell_type": "markdown",
   "id": "ed4372a1",
   "metadata": {},
   "source": [
    "- The job can be ran on a timer via a cron job or a glue job on AWS\n",
    "- AWS offers some nice dashboarding capabilityies built in via quicksite"
   ]
  },
  {
   "cell_type": "markdown",
   "id": "09c03a74",
   "metadata": {},
   "source": [
    "- From here a master dataframe is created and stored in AWS (or locally) it is appended to itself in a method similar to above every time the script is ran."
   ]
  },
  {
   "cell_type": "code",
   "execution_count": 34,
   "id": "75f4877c",
   "metadata": {},
   "outputs": [
    {
     "data": {
      "text/html": [
       "<div>\n",
       "<style scoped>\n",
       "    .dataframe tbody tr th:only-of-type {\n",
       "        vertical-align: middle;\n",
       "    }\n",
       "\n",
       "    .dataframe tbody tr th {\n",
       "        vertical-align: top;\n",
       "    }\n",
       "\n",
       "    .dataframe thead th {\n",
       "        text-align: right;\n",
       "    }\n",
       "</style>\n",
       "<table border=\"1\" class=\"dataframe\">\n",
       "  <thead>\n",
       "    <tr style=\"text-align: right;\">\n",
       "      <th></th>\n",
       "      <th>Unnamed: 0</th>\n",
       "      <th>Skill</th>\n",
       "      <th>Rank</th>\n",
       "      <th>Level</th>\n",
       "      <th>Exp</th>\n",
       "      <th>Date</th>\n",
       "      <th>RSN</th>\n",
       "      <th>Player Type</th>\n",
       "      <th>IM_Order</th>\n",
       "      <th>API</th>\n",
       "    </tr>\n",
       "  </thead>\n",
       "  <tbody>\n",
       "    <tr>\n",
       "      <th>0</th>\n",
       "      <td>0.0</td>\n",
       "      <td>Overall</td>\n",
       "      <td>580850</td>\n",
       "      <td>1766</td>\n",
       "      <td>55636203.0</td>\n",
       "      <td>2023-05-22</td>\n",
       "      <td>N54 Gang</td>\n",
       "      <td>Main/GIM/UGIM</td>\n",
       "      <td>4.0</td>\n",
       "      <td>NaN</td>\n",
       "    </tr>\n",
       "    <tr>\n",
       "      <th>1</th>\n",
       "      <td>1.0</td>\n",
       "      <td>Attack</td>\n",
       "      <td>605106</td>\n",
       "      <td>86</td>\n",
       "      <td>3910407.0</td>\n",
       "      <td>2023-05-22</td>\n",
       "      <td>N54 Gang</td>\n",
       "      <td>Main/GIM/UGIM</td>\n",
       "      <td>4.0</td>\n",
       "      <td>NaN</td>\n",
       "    </tr>\n",
       "    <tr>\n",
       "      <th>2</th>\n",
       "      <td>2.0</td>\n",
       "      <td>Hunter</td>\n",
       "      <td>754263</td>\n",
       "      <td>69</td>\n",
       "      <td>703272.0</td>\n",
       "      <td>2023-05-22</td>\n",
       "      <td>N54 Gang</td>\n",
       "      <td>Main/GIM/UGIM</td>\n",
       "      <td>4.0</td>\n",
       "      <td>NaN</td>\n",
       "    </tr>\n",
       "    <tr>\n",
       "      <th>3</th>\n",
       "      <td>3.0</td>\n",
       "      <td>Runecraft</td>\n",
       "      <td>517176</td>\n",
       "      <td>64</td>\n",
       "      <td>448512.0</td>\n",
       "      <td>2023-05-22</td>\n",
       "      <td>N54 Gang</td>\n",
       "      <td>Main/GIM/UGIM</td>\n",
       "      <td>4.0</td>\n",
       "      <td>NaN</td>\n",
       "    </tr>\n",
       "    <tr>\n",
       "      <th>4</th>\n",
       "      <td>4.0</td>\n",
       "      <td>Farming</td>\n",
       "      <td>717908</td>\n",
       "      <td>72</td>\n",
       "      <td>947654.0</td>\n",
       "      <td>2023-05-22</td>\n",
       "      <td>N54 Gang</td>\n",
       "      <td>Main/GIM/UGIM</td>\n",
       "      <td>4.0</td>\n",
       "      <td>NaN</td>\n",
       "    </tr>\n",
       "    <tr>\n",
       "      <th>...</th>\n",
       "      <td>...</td>\n",
       "      <td>...</td>\n",
       "      <td>...</td>\n",
       "      <td>...</td>\n",
       "      <td>...</td>\n",
       "      <td>...</td>\n",
       "      <td>...</td>\n",
       "      <td>...</td>\n",
       "      <td>...</td>\n",
       "      <td>...</td>\n",
       "    </tr>\n",
       "    <tr>\n",
       "      <th>139</th>\n",
       "      <td>NaN</td>\n",
       "      <td>Ranged</td>\n",
       "      <td>14634</td>\n",
       "      <td>99</td>\n",
       "      <td>73819813.0</td>\n",
       "      <td>2023-05-22</td>\n",
       "      <td>KingJacula</td>\n",
       "      <td>Main/GIM/UGIM</td>\n",
       "      <td>4.0</td>\n",
       "      <td>NaN</td>\n",
       "    </tr>\n",
       "    <tr>\n",
       "      <th>140</th>\n",
       "      <td>NaN</td>\n",
       "      <td>Hitpoints</td>\n",
       "      <td>12480</td>\n",
       "      <td>99</td>\n",
       "      <td>73715284.0</td>\n",
       "      <td>2023-05-22</td>\n",
       "      <td>KingJacula</td>\n",
       "      <td>Main/GIM/UGIM</td>\n",
       "      <td>4.0</td>\n",
       "      <td>NaN</td>\n",
       "    </tr>\n",
       "    <tr>\n",
       "      <th>141</th>\n",
       "      <td>NaN</td>\n",
       "      <td>Strength</td>\n",
       "      <td>9208</td>\n",
       "      <td>99</td>\n",
       "      <td>70675816.0</td>\n",
       "      <td>2023-05-22</td>\n",
       "      <td>KingJacula</td>\n",
       "      <td>Main/GIM/UGIM</td>\n",
       "      <td>4.0</td>\n",
       "      <td>NaN</td>\n",
       "    </tr>\n",
       "    <tr>\n",
       "      <th>142</th>\n",
       "      <td>NaN</td>\n",
       "      <td>Defence</td>\n",
       "      <td>11061</td>\n",
       "      <td>99</td>\n",
       "      <td>28519871.0</td>\n",
       "      <td>2023-05-22</td>\n",
       "      <td>KingJacula</td>\n",
       "      <td>Main/GIM/UGIM</td>\n",
       "      <td>4.0</td>\n",
       "      <td>NaN</td>\n",
       "    </tr>\n",
       "    <tr>\n",
       "      <th>143</th>\n",
       "      <td>NaN</td>\n",
       "      <td>Construction</td>\n",
       "      <td>855</td>\n",
       "      <td>99</td>\n",
       "      <td>18239447.0</td>\n",
       "      <td>2023-05-22</td>\n",
       "      <td>KingJacula</td>\n",
       "      <td>Main/GIM/UGIM</td>\n",
       "      <td>4.0</td>\n",
       "      <td>NaN</td>\n",
       "    </tr>\n",
       "  </tbody>\n",
       "</table>\n",
       "<p>144 rows × 10 columns</p>\n",
       "</div>"
      ],
      "text/plain": [
       "     Unnamed: 0         Skill    Rank Level         Exp        Date  \\\n",
       "0           0.0       Overall  580850  1766  55636203.0  2023-05-22   \n",
       "1           1.0        Attack  605106    86   3910407.0  2023-05-22   \n",
       "2           2.0        Hunter  754263    69    703272.0  2023-05-22   \n",
       "3           3.0     Runecraft  517176    64    448512.0  2023-05-22   \n",
       "4           4.0       Farming  717908    72    947654.0  2023-05-22   \n",
       "..          ...           ...     ...   ...         ...         ...   \n",
       "139         NaN        Ranged   14634    99  73819813.0  2023-05-22   \n",
       "140         NaN     Hitpoints   12480    99  73715284.0  2023-05-22   \n",
       "141         NaN      Strength    9208    99  70675816.0  2023-05-22   \n",
       "142         NaN       Defence   11061    99  28519871.0  2023-05-22   \n",
       "143         NaN  Construction     855    99  18239447.0  2023-05-22   \n",
       "\n",
       "            RSN    Player Type  IM_Order  API  \n",
       "0      N54 Gang  Main/GIM/UGIM       4.0  NaN  \n",
       "1      N54 Gang  Main/GIM/UGIM       4.0  NaN  \n",
       "2      N54 Gang  Main/GIM/UGIM       4.0  NaN  \n",
       "3      N54 Gang  Main/GIM/UGIM       4.0  NaN  \n",
       "4      N54 Gang  Main/GIM/UGIM       4.0  NaN  \n",
       "..          ...            ...       ...  ...  \n",
       "139  KingJacula  Main/GIM/UGIM       4.0  NaN  \n",
       "140  KingJacula  Main/GIM/UGIM       4.0  NaN  \n",
       "141  KingJacula  Main/GIM/UGIM       4.0  NaN  \n",
       "142  KingJacula  Main/GIM/UGIM       4.0  NaN  \n",
       "143  KingJacula  Main/GIM/UGIM       4.0  NaN  \n",
       "\n",
       "[144 rows x 10 columns]"
      ]
     },
     "execution_count": 34,
     "metadata": {},
     "output_type": "execute_result"
    }
   ],
   "source": [
    "#The database size can grow rapidlty based on the number of members of the clan and refresh frequency.\n",
    "PreviousHS = pd.read_csv('ClanHiscoresDataset.csv')\n",
    "MostRecentUpdate = ClanHiScoresDs\n",
    "MostRecentUpdate = pd.concat([PreviousHS,MostRecentUpdate], ignore_index=True)\n",
    "MostRecentUpdate"
   ]
  }
 ],
 "metadata": {
  "availableInstances": [
   {
    "_defaultOrder": 0,
    "_isFastLaunch": true,
    "category": "General purpose",
    "gpuNum": 0,
    "hideHardwareSpecs": false,
    "memoryGiB": 4,
    "name": "ml.t3.medium",
    "vcpuNum": 2
   },
   {
    "_defaultOrder": 1,
    "_isFastLaunch": false,
    "category": "General purpose",
    "gpuNum": 0,
    "hideHardwareSpecs": false,
    "memoryGiB": 8,
    "name": "ml.t3.large",
    "vcpuNum": 2
   },
   {
    "_defaultOrder": 2,
    "_isFastLaunch": false,
    "category": "General purpose",
    "gpuNum": 0,
    "hideHardwareSpecs": false,
    "memoryGiB": 16,
    "name": "ml.t3.xlarge",
    "vcpuNum": 4
   },
   {
    "_defaultOrder": 3,
    "_isFastLaunch": false,
    "category": "General purpose",
    "gpuNum": 0,
    "hideHardwareSpecs": false,
    "memoryGiB": 32,
    "name": "ml.t3.2xlarge",
    "vcpuNum": 8
   },
   {
    "_defaultOrder": 4,
    "_isFastLaunch": true,
    "category": "General purpose",
    "gpuNum": 0,
    "hideHardwareSpecs": false,
    "memoryGiB": 8,
    "name": "ml.m5.large",
    "vcpuNum": 2
   },
   {
    "_defaultOrder": 5,
    "_isFastLaunch": false,
    "category": "General purpose",
    "gpuNum": 0,
    "hideHardwareSpecs": false,
    "memoryGiB": 16,
    "name": "ml.m5.xlarge",
    "vcpuNum": 4
   },
   {
    "_defaultOrder": 6,
    "_isFastLaunch": false,
    "category": "General purpose",
    "gpuNum": 0,
    "hideHardwareSpecs": false,
    "memoryGiB": 32,
    "name": "ml.m5.2xlarge",
    "vcpuNum": 8
   },
   {
    "_defaultOrder": 7,
    "_isFastLaunch": false,
    "category": "General purpose",
    "gpuNum": 0,
    "hideHardwareSpecs": false,
    "memoryGiB": 64,
    "name": "ml.m5.4xlarge",
    "vcpuNum": 16
   },
   {
    "_defaultOrder": 8,
    "_isFastLaunch": false,
    "category": "General purpose",
    "gpuNum": 0,
    "hideHardwareSpecs": false,
    "memoryGiB": 128,
    "name": "ml.m5.8xlarge",
    "vcpuNum": 32
   },
   {
    "_defaultOrder": 9,
    "_isFastLaunch": false,
    "category": "General purpose",
    "gpuNum": 0,
    "hideHardwareSpecs": false,
    "memoryGiB": 192,
    "name": "ml.m5.12xlarge",
    "vcpuNum": 48
   },
   {
    "_defaultOrder": 10,
    "_isFastLaunch": false,
    "category": "General purpose",
    "gpuNum": 0,
    "hideHardwareSpecs": false,
    "memoryGiB": 256,
    "name": "ml.m5.16xlarge",
    "vcpuNum": 64
   },
   {
    "_defaultOrder": 11,
    "_isFastLaunch": false,
    "category": "General purpose",
    "gpuNum": 0,
    "hideHardwareSpecs": false,
    "memoryGiB": 384,
    "name": "ml.m5.24xlarge",
    "vcpuNum": 96
   },
   {
    "_defaultOrder": 12,
    "_isFastLaunch": false,
    "category": "General purpose",
    "gpuNum": 0,
    "hideHardwareSpecs": false,
    "memoryGiB": 8,
    "name": "ml.m5d.large",
    "vcpuNum": 2
   },
   {
    "_defaultOrder": 13,
    "_isFastLaunch": false,
    "category": "General purpose",
    "gpuNum": 0,
    "hideHardwareSpecs": false,
    "memoryGiB": 16,
    "name": "ml.m5d.xlarge",
    "vcpuNum": 4
   },
   {
    "_defaultOrder": 14,
    "_isFastLaunch": false,
    "category": "General purpose",
    "gpuNum": 0,
    "hideHardwareSpecs": false,
    "memoryGiB": 32,
    "name": "ml.m5d.2xlarge",
    "vcpuNum": 8
   },
   {
    "_defaultOrder": 15,
    "_isFastLaunch": false,
    "category": "General purpose",
    "gpuNum": 0,
    "hideHardwareSpecs": false,
    "memoryGiB": 64,
    "name": "ml.m5d.4xlarge",
    "vcpuNum": 16
   },
   {
    "_defaultOrder": 16,
    "_isFastLaunch": false,
    "category": "General purpose",
    "gpuNum": 0,
    "hideHardwareSpecs": false,
    "memoryGiB": 128,
    "name": "ml.m5d.8xlarge",
    "vcpuNum": 32
   },
   {
    "_defaultOrder": 17,
    "_isFastLaunch": false,
    "category": "General purpose",
    "gpuNum": 0,
    "hideHardwareSpecs": false,
    "memoryGiB": 192,
    "name": "ml.m5d.12xlarge",
    "vcpuNum": 48
   },
   {
    "_defaultOrder": 18,
    "_isFastLaunch": false,
    "category": "General purpose",
    "gpuNum": 0,
    "hideHardwareSpecs": false,
    "memoryGiB": 256,
    "name": "ml.m5d.16xlarge",
    "vcpuNum": 64
   },
   {
    "_defaultOrder": 19,
    "_isFastLaunch": false,
    "category": "General purpose",
    "gpuNum": 0,
    "hideHardwareSpecs": false,
    "memoryGiB": 384,
    "name": "ml.m5d.24xlarge",
    "vcpuNum": 96
   },
   {
    "_defaultOrder": 20,
    "_isFastLaunch": false,
    "category": "General purpose",
    "gpuNum": 0,
    "hideHardwareSpecs": true,
    "memoryGiB": 0,
    "name": "ml.geospatial.interactive",
    "supportedImageNames": [
     "sagemaker-geospatial-v1-0"
    ],
    "vcpuNum": 0
   },
   {
    "_defaultOrder": 21,
    "_isFastLaunch": true,
    "category": "Compute optimized",
    "gpuNum": 0,
    "hideHardwareSpecs": false,
    "memoryGiB": 4,
    "name": "ml.c5.large",
    "vcpuNum": 2
   },
   {
    "_defaultOrder": 22,
    "_isFastLaunch": false,
    "category": "Compute optimized",
    "gpuNum": 0,
    "hideHardwareSpecs": false,
    "memoryGiB": 8,
    "name": "ml.c5.xlarge",
    "vcpuNum": 4
   },
   {
    "_defaultOrder": 23,
    "_isFastLaunch": false,
    "category": "Compute optimized",
    "gpuNum": 0,
    "hideHardwareSpecs": false,
    "memoryGiB": 16,
    "name": "ml.c5.2xlarge",
    "vcpuNum": 8
   },
   {
    "_defaultOrder": 24,
    "_isFastLaunch": false,
    "category": "Compute optimized",
    "gpuNum": 0,
    "hideHardwareSpecs": false,
    "memoryGiB": 32,
    "name": "ml.c5.4xlarge",
    "vcpuNum": 16
   },
   {
    "_defaultOrder": 25,
    "_isFastLaunch": false,
    "category": "Compute optimized",
    "gpuNum": 0,
    "hideHardwareSpecs": false,
    "memoryGiB": 72,
    "name": "ml.c5.9xlarge",
    "vcpuNum": 36
   },
   {
    "_defaultOrder": 26,
    "_isFastLaunch": false,
    "category": "Compute optimized",
    "gpuNum": 0,
    "hideHardwareSpecs": false,
    "memoryGiB": 96,
    "name": "ml.c5.12xlarge",
    "vcpuNum": 48
   },
   {
    "_defaultOrder": 27,
    "_isFastLaunch": false,
    "category": "Compute optimized",
    "gpuNum": 0,
    "hideHardwareSpecs": false,
    "memoryGiB": 144,
    "name": "ml.c5.18xlarge",
    "vcpuNum": 72
   },
   {
    "_defaultOrder": 28,
    "_isFastLaunch": false,
    "category": "Compute optimized",
    "gpuNum": 0,
    "hideHardwareSpecs": false,
    "memoryGiB": 192,
    "name": "ml.c5.24xlarge",
    "vcpuNum": 96
   },
   {
    "_defaultOrder": 29,
    "_isFastLaunch": true,
    "category": "Accelerated computing",
    "gpuNum": 1,
    "hideHardwareSpecs": false,
    "memoryGiB": 16,
    "name": "ml.g4dn.xlarge",
    "vcpuNum": 4
   },
   {
    "_defaultOrder": 30,
    "_isFastLaunch": false,
    "category": "Accelerated computing",
    "gpuNum": 1,
    "hideHardwareSpecs": false,
    "memoryGiB": 32,
    "name": "ml.g4dn.2xlarge",
    "vcpuNum": 8
   },
   {
    "_defaultOrder": 31,
    "_isFastLaunch": false,
    "category": "Accelerated computing",
    "gpuNum": 1,
    "hideHardwareSpecs": false,
    "memoryGiB": 64,
    "name": "ml.g4dn.4xlarge",
    "vcpuNum": 16
   },
   {
    "_defaultOrder": 32,
    "_isFastLaunch": false,
    "category": "Accelerated computing",
    "gpuNum": 1,
    "hideHardwareSpecs": false,
    "memoryGiB": 128,
    "name": "ml.g4dn.8xlarge",
    "vcpuNum": 32
   },
   {
    "_defaultOrder": 33,
    "_isFastLaunch": false,
    "category": "Accelerated computing",
    "gpuNum": 4,
    "hideHardwareSpecs": false,
    "memoryGiB": 192,
    "name": "ml.g4dn.12xlarge",
    "vcpuNum": 48
   },
   {
    "_defaultOrder": 34,
    "_isFastLaunch": false,
    "category": "Accelerated computing",
    "gpuNum": 1,
    "hideHardwareSpecs": false,
    "memoryGiB": 256,
    "name": "ml.g4dn.16xlarge",
    "vcpuNum": 64
   },
   {
    "_defaultOrder": 35,
    "_isFastLaunch": false,
    "category": "Accelerated computing",
    "gpuNum": 1,
    "hideHardwareSpecs": false,
    "memoryGiB": 61,
    "name": "ml.p3.2xlarge",
    "vcpuNum": 8
   },
   {
    "_defaultOrder": 36,
    "_isFastLaunch": false,
    "category": "Accelerated computing",
    "gpuNum": 4,
    "hideHardwareSpecs": false,
    "memoryGiB": 244,
    "name": "ml.p3.8xlarge",
    "vcpuNum": 32
   },
   {
    "_defaultOrder": 37,
    "_isFastLaunch": false,
    "category": "Accelerated computing",
    "gpuNum": 8,
    "hideHardwareSpecs": false,
    "memoryGiB": 488,
    "name": "ml.p3.16xlarge",
    "vcpuNum": 64
   },
   {
    "_defaultOrder": 38,
    "_isFastLaunch": false,
    "category": "Accelerated computing",
    "gpuNum": 8,
    "hideHardwareSpecs": false,
    "memoryGiB": 768,
    "name": "ml.p3dn.24xlarge",
    "vcpuNum": 96
   },
   {
    "_defaultOrder": 39,
    "_isFastLaunch": false,
    "category": "Memory Optimized",
    "gpuNum": 0,
    "hideHardwareSpecs": false,
    "memoryGiB": 16,
    "name": "ml.r5.large",
    "vcpuNum": 2
   },
   {
    "_defaultOrder": 40,
    "_isFastLaunch": false,
    "category": "Memory Optimized",
    "gpuNum": 0,
    "hideHardwareSpecs": false,
    "memoryGiB": 32,
    "name": "ml.r5.xlarge",
    "vcpuNum": 4
   },
   {
    "_defaultOrder": 41,
    "_isFastLaunch": false,
    "category": "Memory Optimized",
    "gpuNum": 0,
    "hideHardwareSpecs": false,
    "memoryGiB": 64,
    "name": "ml.r5.2xlarge",
    "vcpuNum": 8
   },
   {
    "_defaultOrder": 42,
    "_isFastLaunch": false,
    "category": "Memory Optimized",
    "gpuNum": 0,
    "hideHardwareSpecs": false,
    "memoryGiB": 128,
    "name": "ml.r5.4xlarge",
    "vcpuNum": 16
   },
   {
    "_defaultOrder": 43,
    "_isFastLaunch": false,
    "category": "Memory Optimized",
    "gpuNum": 0,
    "hideHardwareSpecs": false,
    "memoryGiB": 256,
    "name": "ml.r5.8xlarge",
    "vcpuNum": 32
   },
   {
    "_defaultOrder": 44,
    "_isFastLaunch": false,
    "category": "Memory Optimized",
    "gpuNum": 0,
    "hideHardwareSpecs": false,
    "memoryGiB": 384,
    "name": "ml.r5.12xlarge",
    "vcpuNum": 48
   },
   {
    "_defaultOrder": 45,
    "_isFastLaunch": false,
    "category": "Memory Optimized",
    "gpuNum": 0,
    "hideHardwareSpecs": false,
    "memoryGiB": 512,
    "name": "ml.r5.16xlarge",
    "vcpuNum": 64
   },
   {
    "_defaultOrder": 46,
    "_isFastLaunch": false,
    "category": "Memory Optimized",
    "gpuNum": 0,
    "hideHardwareSpecs": false,
    "memoryGiB": 768,
    "name": "ml.r5.24xlarge",
    "vcpuNum": 96
   },
   {
    "_defaultOrder": 47,
    "_isFastLaunch": false,
    "category": "Accelerated computing",
    "gpuNum": 1,
    "hideHardwareSpecs": false,
    "memoryGiB": 16,
    "name": "ml.g5.xlarge",
    "vcpuNum": 4
   },
   {
    "_defaultOrder": 48,
    "_isFastLaunch": false,
    "category": "Accelerated computing",
    "gpuNum": 1,
    "hideHardwareSpecs": false,
    "memoryGiB": 32,
    "name": "ml.g5.2xlarge",
    "vcpuNum": 8
   },
   {
    "_defaultOrder": 49,
    "_isFastLaunch": false,
    "category": "Accelerated computing",
    "gpuNum": 1,
    "hideHardwareSpecs": false,
    "memoryGiB": 64,
    "name": "ml.g5.4xlarge",
    "vcpuNum": 16
   },
   {
    "_defaultOrder": 50,
    "_isFastLaunch": false,
    "category": "Accelerated computing",
    "gpuNum": 1,
    "hideHardwareSpecs": false,
    "memoryGiB": 128,
    "name": "ml.g5.8xlarge",
    "vcpuNum": 32
   },
   {
    "_defaultOrder": 51,
    "_isFastLaunch": false,
    "category": "Accelerated computing",
    "gpuNum": 1,
    "hideHardwareSpecs": false,
    "memoryGiB": 256,
    "name": "ml.g5.16xlarge",
    "vcpuNum": 64
   },
   {
    "_defaultOrder": 52,
    "_isFastLaunch": false,
    "category": "Accelerated computing",
    "gpuNum": 4,
    "hideHardwareSpecs": false,
    "memoryGiB": 192,
    "name": "ml.g5.12xlarge",
    "vcpuNum": 48
   },
   {
    "_defaultOrder": 53,
    "_isFastLaunch": false,
    "category": "Accelerated computing",
    "gpuNum": 4,
    "hideHardwareSpecs": false,
    "memoryGiB": 384,
    "name": "ml.g5.24xlarge",
    "vcpuNum": 96
   },
   {
    "_defaultOrder": 54,
    "_isFastLaunch": false,
    "category": "Accelerated computing",
    "gpuNum": 8,
    "hideHardwareSpecs": false,
    "memoryGiB": 768,
    "name": "ml.g5.48xlarge",
    "vcpuNum": 192
   },
   {
    "_defaultOrder": 55,
    "_isFastLaunch": false,
    "category": "Accelerated computing",
    "gpuNum": 8,
    "hideHardwareSpecs": false,
    "memoryGiB": 1152,
    "name": "ml.p4d.24xlarge",
    "vcpuNum": 96
   },
   {
    "_defaultOrder": 56,
    "_isFastLaunch": false,
    "category": "Accelerated computing",
    "gpuNum": 8,
    "hideHardwareSpecs": false,
    "memoryGiB": 1152,
    "name": "ml.p4de.24xlarge",
    "vcpuNum": 96
   }
  ],
  "instance_type": "ml.t3.medium",
  "kernelspec": {
   "display_name": "Python 3 (ipykernel)",
   "language": "python",
   "name": "python3"
  },
  "language_info": {
   "codemirror_mode": {
    "name": "ipython",
    "version": 3
   },
   "file_extension": ".py",
   "mimetype": "text/x-python",
   "name": "python",
   "nbconvert_exporter": "python",
   "pygments_lexer": "ipython3",
   "version": "3.10.9"
  }
 },
 "nbformat": 4,
 "nbformat_minor": 5
}
